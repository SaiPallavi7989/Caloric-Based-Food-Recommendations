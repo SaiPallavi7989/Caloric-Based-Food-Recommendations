{
  "nbformat": 4,
  "nbformat_minor": 0,
  "metadata": {
    "colab": {
      "provenance": [],
      "include_colab_link": true
    },
    "kernelspec": {
      "name": "python3",
      "display_name": "Python 3"
    },
    "language_info": {
      "name": "python"
    }
  },
  "cells": [
    {
      "cell_type": "markdown",
      "metadata": {
        "id": "view-in-github",
        "colab_type": "text"
      },
      "source": [
        "<a href=\"https://colab.research.google.com/github/SaiPallavi7989/Python/blob/main/python.ipynb\" target=\"_parent\"><img src=\"https://colab.research.google.com/assets/colab-badge.svg\" alt=\"Open In Colab\"/></a>"
      ]
    },
    {
      "cell_type": "code",
      "source": [
        "history =int(input(\"Enter Marks of History    \"))\n",
        "science =int(input(\"Enter Marks of Science   \"))\n",
        "\n",
        "if (history > science):\n",
        "     print('History marks greater than Science')\n",
        "else:\n",
        "     print('Science marks greater than History')"
      ],
      "metadata": {
        "colab": {
          "base_uri": "https://localhost:8080/"
        },
        "id": "_QiEfnKxIttX",
        "outputId": "0e56cb12-b6cc-418b-b95f-96e794a2419c"
      },
      "execution_count": null,
      "outputs": [
        {
          "output_type": "stream",
          "name": "stdout",
          "text": [
            "Enter Marks of History    56\n",
            "Enter Marks of Science   89\n",
            "Science marks greater than History\n"
          ]
        }
      ]
    },
    {
      "cell_type": "code",
      "source": [
        "words = ['cat', 'window', 'defenestrate']\n",
        "for w in words:\n",
        "    print(w, len(w))"
      ],
      "metadata": {
        "colab": {
          "base_uri": "https://localhost:8080/"
        },
        "id": "N0HWZ1a0H6kv",
        "outputId": "2684e59a-2440-4ace-be9b-f51f431f49da"
      },
      "execution_count": null,
      "outputs": [
        {
          "output_type": "stream",
          "name": "stdout",
          "text": [
            "cat 3\n",
            "window 6\n",
            "defenestrate 12\n"
          ]
        }
      ]
    },
    {
      "cell_type": "code",
      "source": [
        "for i in range(5):\n",
        "    print(i)"
      ],
      "metadata": {
        "colab": {
          "base_uri": "https://localhost:8080/"
        },
        "id": "jePcbg3-IPyd",
        "outputId": "1e5620c6-0233-4bce-e3a7-60761330699a"
      },
      "execution_count": null,
      "outputs": [
        {
          "output_type": "stream",
          "name": "stdout",
          "text": [
            "0\n",
            "1\n",
            "2\n",
            "3\n",
            "4\n"
          ]
        }
      ]
    },
    {
      "cell_type": "code",
      "source": [
        "for num in range(1, 20):\n",
        "    if num % 2 == 0:\n",
        "        print(\"Found an even number\", num)\n",
        "        break\n",
        "    print(\"Found an odd number\", num)"
      ],
      "metadata": {
        "colab": {
          "base_uri": "https://localhost:8080/"
        },
        "id": "q9QraklaIXtT",
        "outputId": "0b01d0d2-4d76-4001-87df-542cafe05b46"
      },
      "execution_count": null,
      "outputs": [
        {
          "output_type": "stream",
          "name": "stdout",
          "text": [
            "Found an odd number 1\n",
            "Found an even number 2\n"
          ]
        }
      ]
    },
    {
      "cell_type": "code",
      "source": [
        "n = 5\n",
        "while n > 0:\n",
        "    n -= 1\n",
        "    if n == 2:\n",
        "        break\n",
        "    print(n)\n",
        "print('Loop ended.')\n"
      ],
      "metadata": {
        "colab": {
          "base_uri": "https://localhost:8080/"
        },
        "id": "BQAQyeaWRFGA",
        "outputId": "250287db-ae20-465c-d401-b1a72f59ef3e"
      },
      "execution_count": null,
      "outputs": [
        {
          "output_type": "stream",
          "name": "stdout",
          "text": [
            "4\n",
            "3\n",
            "Loop ended.\n"
          ]
        }
      ]
    },
    {
      "cell_type": "code",
      "execution_count": null,
      "metadata": {
        "id": "hQ6RkdgUb1w4",
        "colab": {
          "base_uri": "https://localhost:8080/"
        },
        "outputId": "0a36c6e7-c4fd-4e89-b29e-c6a887c23dc5"
      },
      "outputs": [
        {
          "output_type": "stream",
          "name": "stdout",
          "text": [
            "3\n",
            "5\n"
          ]
        }
      ],
      "source": [
        "def my_function(x):\n",
        "  return x + 1\n",
        "\n",
        "\n",
        "\n",
        "print(my_function(2))\n",
        "print(my_function(4))"
      ]
    },
    {
      "cell_type": "code",
      "source": [
        "def add(a=0,b=0,c=0):     #default arguments\n",
        "    return (a+b+c)\n",
        "print(add())\n",
        "\n",
        "\n",
        "def add1(a,b=5,c=10):       #mandatory argument\n",
        "    return (a+b+c)\n",
        "\n",
        "\n",
        "print(add1(5))\n",
        "\n",
        "\n",
        "\n",
        "print (add(10,20,30))   #postional arguments\n",
        "\n",
        "print (add(c=10,a=110,b=30))"
      ],
      "metadata": {
        "colab": {
          "base_uri": "https://localhost:8080/"
        },
        "id": "a7dasupm5As0",
        "outputId": "5d6e610a-97f1-43a9-8550-7dd78489d378"
      },
      "execution_count": null,
      "outputs": [
        {
          "output_type": "stream",
          "name": "stdout",
          "text": [
            "0\n",
            "20\n",
            "60\n",
            "150\n"
          ]
        }
      ]
    },
    {
      "cell_type": "code",
      "source": [
        "x = lambda a : a + 10\n",
        "print(x(5))\n",
        "\n",
        "x = lambda a, b : a * b\n",
        "print(x(5, 6))"
      ],
      "metadata": {
        "colab": {
          "base_uri": "https://localhost:8080/"
        },
        "id": "UM-kYAm_GwvY",
        "outputId": "8c079a21-c638-4046-8f58-1482e3bb38f8"
      },
      "execution_count": null,
      "outputs": [
        {
          "output_type": "stream",
          "name": "stdout",
          "text": [
            "15\n",
            "30\n"
          ]
        }
      ]
    },
    {
      "cell_type": "code",
      "source": [
        "import re\n",
        "\n",
        "txt = \"rain in Spain\"\n",
        "x = re.search(\"^The.*Spain$\", txt)\n",
        "\n",
        "if x:\n",
        "  print(\"YES! We have a match!\")\n",
        "else:\n",
        "  print(\"No match\")"
      ],
      "metadata": {
        "colab": {
          "base_uri": "https://localhost:8080/"
        },
        "id": "VdXNYF_9JWSS",
        "outputId": "9a7161ba-ea74-4eb1-ef67-c5498c288790"
      },
      "execution_count": null,
      "outputs": [
        {
          "output_type": "stream",
          "name": "stdout",
          "text": [
            "No match\n"
          ]
        }
      ]
    },
    {
      "cell_type": "code",
      "source": [
        "\n",
        "\n",
        "pattern = '^a...s$'\n",
        "test_string = input(\"Enter String\")\n",
        "result = re.match(pattern, test_string)\n",
        "\n",
        "if result:\n",
        "  print(\"Search successful.\")\n",
        "else:\n",
        "  print(\"Search unsuccessful.\")\n"
      ],
      "metadata": {
        "colab": {
          "base_uri": "https://localhost:8080/"
        },
        "id": "p4Lp-9yrOnpm",
        "outputId": "7e0c9d3f-7317-4c62-9ce3-3010a0061ba6"
      },
      "execution_count": null,
      "outputs": [
        {
          "output_type": "stream",
          "name": "stdout",
          "text": [
            "Enter Stringarna\n",
            "Search unsuccessful.\n"
          ]
        }
      ]
    },
    {
      "cell_type": "code",
      "source": [
        "class KBNCollege:\n",
        "    def __init__(self, course):\n",
        "        self.course = course\n",
        "    def display(self):\n",
        "        print(self.course)\n",
        "object1 = KBNCollege(\"Python\")\n",
        "object1.display()"
      ],
      "metadata": {
        "id": "HW1BXUg4HgSz",
        "colab": {
          "base_uri": "https://localhost:8080/"
        },
        "outputId": "555b1a9b-b4f9-438f-a24b-2bd5ba8bfb86"
      },
      "execution_count": null,
      "outputs": [
        {
          "output_type": "stream",
          "name": "stdout",
          "text": [
            "Python\n"
          ]
        }
      ]
    },
    {
      "cell_type": "code",
      "source": [
        "class KBNCollege:\n",
        "    def __init__(self,name ,phno,address,accno,balance,aadharno):\n",
        "        self.name=name\n",
        "        self.phno=phno\n",
        "        self.address=address\n",
        "        self.accno=accno\n",
        "        self.balance=balance\n",
        "        self.aadharno=aadharno\n",
        "\n",
        "    def displayinf(self):\n",
        "        print(self.name)\n",
        "        print(self.address)\n",
        "        print(self.aadharno)\n",
        "    def createdebitcard(self):\n",
        "        print(self.name)\n",
        "\n",
        "object1 = KBNCollege(\"Python\",\"778899445566\",\"vijayawada\",\"789456\",\"55\",\"5555\")\n",
        "object1.displayinf()"
      ],
      "metadata": {
        "colab": {
          "base_uri": "https://localhost:8080/"
        },
        "id": "U90Mbv2DXJWr",
        "outputId": "7b043d0b-9fa5-4c77-ea4d-96a1306cbcfe"
      },
      "execution_count": null,
      "outputs": [
        {
          "output_type": "stream",
          "name": "stdout",
          "text": [
            "Python\n",
            "vijayawada\n",
            "5555\n"
          ]
        }
      ]
    },
    {
      "cell_type": "code",
      "source": [
        "class KBNCollege:\n",
        "    def course(self):\n",
        "        print(\"Python Course in Fixity\")\n",
        "class hello(KBNCollege):\n",
        "    def func(self):\n",
        "        print(\"You are appointed\")\n",
        "ob1 = hello()\n",
        "ob1.func()\n",
        "ob1.course()"
      ],
      "metadata": {
        "colab": {
          "base_uri": "https://localhost:8080/"
        },
        "id": "PJL6JADTC_mb",
        "outputId": "ca8faf0e-8af1-4b96-c5bf-a9682f8ca17b"
      },
      "execution_count": null,
      "outputs": [
        {
          "output_type": "stream",
          "name": "stdout",
          "text": [
            "You are appointed\n",
            "Python Couse in Fixity\n"
          ]
        }
      ]
    },
    {
      "cell_type": "code",
      "source": [
        "class BaseClass1():\n",
        "    def __init__(self):\n",
        "        print(\"Base class 1\")\n",
        "class BaseClass2():\n",
        "    def __init__(self):\n",
        "        print(\"Base class 2\")\n",
        "class derivedClass ():\n",
        "    def __init__(self):\n",
        "        BaseClass1.__init__(self)\n",
        "        BaseClass2.__init__(self)\n",
        "        print(\"derived class\")\n",
        "    def display1(self):\n",
        "        BaseClass1.__init__(self)\n",
        "\n",
        "\n",
        "ob = derivedClass()\n",
        "ob.display1()"
      ],
      "metadata": {
        "id": "5fZyuMGDEtCQ",
        "colab": {
          "base_uri": "https://localhost:8080/"
        },
        "outputId": "154ef070-f7b3-4cfc-d141-cf026042d480"
      },
      "execution_count": null,
      "outputs": [
        {
          "output_type": "stream",
          "name": "stdout",
          "text": [
            "Base class 1\n",
            "Base class 2\n",
            "derived class\n",
            "Base class 1\n"
          ]
        }
      ]
    },
    {
      "cell_type": "code",
      "source": [
        "class BaseClass():\n",
        "    def __init__(self):\n",
        "        print(\"Base class\")\n",
        "class childClass(BaseClass):\n",
        "    def __init__(self):\n",
        "        print(\"Child class\")\n",
        "class grandchildClass(childClass):\n",
        "    def __init__(self):\n",
        "        BaseClass.__init__(self)\n",
        "        childClass.__init__(self)\n",
        "        print(\"Grand child class\")\n",
        "ob1 = grandchildClass()"
      ],
      "metadata": {
        "id": "xADLlcz0Hr-4",
        "colab": {
          "base_uri": "https://localhost:8080/"
        },
        "outputId": "6448a442-2471-4494-c098-e311c5ff5879"
      },
      "execution_count": null,
      "outputs": [
        {
          "output_type": "stream",
          "name": "stdout",
          "text": [
            "Base class\n",
            "Child class\n",
            "Grand child class\n"
          ]
        }
      ]
    },
    {
      "cell_type": "code",
      "source": [
        "f = open(\"myfile999.txt\", \"x\")"
      ],
      "metadata": {
        "id": "_uzNH_fVG0fX"
      },
      "execution_count": null,
      "outputs": []
    },
    {
      "cell_type": "code",
      "source": [
        "f1 = open(\"myfile4.txt\", \"w\")"
      ],
      "metadata": {
        "id": "gmtbNmORHSzj"
      },
      "execution_count": null,
      "outputs": []
    },
    {
      "cell_type": "code",
      "source": [
        "# # Open the file in write mode 'w'\n",
        "f1 = open(\"myfile4.txt\", \"w\")\n",
        "f1.writelines([\"Hello World \\n \", \"You are welcome to KBNCollege\\n\"])\n",
        "f1.close() # Close the file to ensure data is written\n",
        "\n",
        "f1 = open(\"myfile4.txt\", \"r\") # Reopen the file in read mode 'r'\n",
        "print(f1.read())\n",
        "f1.close() # Close the file"
      ],
      "metadata": {
        "id": "M5rncMtCHTXU",
        "colab": {
          "base_uri": "https://localhost:8080/"
        },
        "outputId": "4edf0979-af77-4731-8fea-65f66588ff39"
      },
      "execution_count": null,
      "outputs": [
        {
          "output_type": "stream",
          "name": "stdout",
          "text": [
            "Hello World \n",
            " You are welcome to KBNCollege\n",
            "\n"
          ]
        }
      ]
    },
    {
      "cell_type": "code",
      "source": [
        "f = open(\"myfile3.txt\", \"r\")\n",
        "print(f.readline())"
      ],
      "metadata": {
        "colab": {
          "base_uri": "https://localhost:8080/"
        },
        "id": "xq8GFp-mNZFS",
        "outputId": "00b95e27-bf32-4a4c-e924-bf104438ae60"
      },
      "execution_count": null,
      "outputs": [
        {
          "output_type": "stream",
          "name": "stdout",
          "text": [
            "\n"
          ]
        }
      ]
    },
    {
      "cell_type": "code",
      "source": [
        "file1 = open(\"myfile.txt\",\"w\")\n",
        "\n",
        "#file1.writelines(['This is Delhi \\n',\"This is Vijayawada \\n\",\"This is Hyderadad \\n\"])\n",
        "file1.writelines([\"Hello World \\n \", \"You are welcome to KBNCollege\\n\"])\n",
        "file1.close()\n",
        "\n",
        "\n",
        "file1 = open(\"myfile.txt\",\"a\")#append mode\n",
        "file1.write(\"The city is Banglore \\n\")\n",
        "file1.close()\n",
        "\n",
        "file1 = open(\"myfile.txt\",\"r\")\n",
        "print(\"Output of Readlines after appending\")\n",
        "print(file1.read())\n",
        "\n",
        "file1.close()\n",
        "\n"
      ],
      "metadata": {
        "id": "1-ZqsuScRtv2",
        "colab": {
          "base_uri": "https://localhost:8080/"
        },
        "outputId": "e4df6c1e-8baf-4bd4-d4b7-132b4ead5960"
      },
      "execution_count": null,
      "outputs": [
        {
          "output_type": "stream",
          "name": "stdout",
          "text": [
            "Output of Readlines after appending\n",
            "Hello World \n",
            " You are welcome to KBNCollege\n",
            "The city is Banglore \n",
            "\n"
          ]
        }
      ]
    },
    {
      "cell_type": "code",
      "source": [
        "x = float(input(\"Enter a number: \"))\n",
        "  result = 10 / x\n",
        "  print(\"The result is:\", result)"
      ],
      "metadata": {
        "colab": {
          "base_uri": "https://localhost:8080/",
          "height": 193
        },
        "id": "cZUwpTMgieks",
        "outputId": "090b324f-58a8-4b60-e6ce-c2331c54e07c"
      },
      "execution_count": null,
      "outputs": [
        {
          "name": "stdout",
          "output_type": "stream",
          "text": [
            "Enter a number: 0\n"
          ]
        },
        {
          "output_type": "error",
          "ename": "ZeroDivisionError",
          "evalue": "division by zero",
          "traceback": [
            "\u001b[0;31m---------------------------------------------------------------------------\u001b[0m",
            "\u001b[0;31mZeroDivisionError\u001b[0m                         Traceback (most recent call last)",
            "\u001b[0;32m<ipython-input-20-e6467d6cb313>\u001b[0m in \u001b[0;36m<cell line: 2>\u001b[0;34m()\u001b[0m\n\u001b[1;32m      1\u001b[0m \u001b[0mx\u001b[0m \u001b[0;34m=\u001b[0m \u001b[0mint\u001b[0m\u001b[0;34m(\u001b[0m\u001b[0minput\u001b[0m\u001b[0;34m(\u001b[0m\u001b[0;34m\"Enter a number: \"\u001b[0m\u001b[0;34m)\u001b[0m\u001b[0;34m)\u001b[0m\u001b[0;34m\u001b[0m\u001b[0;34m\u001b[0m\u001b[0m\n\u001b[0;32m----> 2\u001b[0;31m \u001b[0mresult\u001b[0m \u001b[0;34m=\u001b[0m \u001b[0;36m10\u001b[0m \u001b[0;34m/\u001b[0m \u001b[0mx\u001b[0m\u001b[0;34m\u001b[0m\u001b[0;34m\u001b[0m\u001b[0m\n\u001b[0m\u001b[1;32m      3\u001b[0m \u001b[0mprint\u001b[0m\u001b[0;34m(\u001b[0m\u001b[0;34m\"The result is:\"\u001b[0m\u001b[0;34m,\u001b[0m \u001b[0mresult\u001b[0m\u001b[0;34m)\u001b[0m\u001b[0;34m\u001b[0m\u001b[0;34m\u001b[0m\u001b[0m\n",
            "\u001b[0;31mZeroDivisionError\u001b[0m: division by zero"
          ]
        }
      ]
    },
    {
      "cell_type": "code",
      "source": [
        "try:\n",
        "  x = int(input(\"Enter a number: \"))\n",
        "  result = 10 / x\n",
        "  print(\"The result is:\", result)\n",
        "except ZeroDivisionError:\n",
        "  print(\"Division by zero is not allowed.\")\n",
        "except ValueError:\n",
        "  print(\"Invalid input. Please enter a valid number.\")"
      ],
      "metadata": {
        "colab": {
          "base_uri": "https://localhost:8080/"
        },
        "id": "TKOmgCWDU-SB",
        "outputId": "fce02843-85cb-4eb8-edba-736ad1616e86"
      },
      "execution_count": null,
      "outputs": [
        {
          "output_type": "stream",
          "name": "stdout",
          "text": [
            "Enter a number: 0\n",
            "Division by zero is not allowed.\n"
          ]
        }
      ]
    },
    {
      "cell_type": "code",
      "source": [
        "def divide_numbers(a, b):\n",
        "    try:\n",
        "        result = a / b\n",
        "    except ZeroDivisionError:\n",
        "        print(\"Error: Cannot divide by zero!\")\n",
        "    else:\n",
        "        print(f\"The result of {a} divided by {b} is: {result}\")\n",
        "    finally:\n",
        "        print(\"This block always executes, regardless of exceptions.\")\n",
        "divide_numbers(10, 2)\n",
        "divide_numbers(5, 0)"
      ],
      "metadata": {
        "colab": {
          "base_uri": "https://localhost:8080/"
        },
        "id": "ud4DXW9OVPZ9",
        "outputId": "d601909e-dd60-4cfe-87cf-09e14d477106"
      },
      "execution_count": null,
      "outputs": [
        {
          "output_type": "stream",
          "name": "stdout",
          "text": [
            "The result of 10 divided by 2 is: 5.0\n",
            "This block always executes, regardless of exceptions.\n",
            "Error: Cannot divide by zero!\n",
            "This block always executes, regardless of exceptions.\n"
          ]
        }
      ]
    },
    {
      "cell_type": "code",
      "source": [
        "a=[1,5,6,9]\n",
        "b=[5,9,5,6]\n",
        "s=sorted(a)\n",
        "v=sorted(b)\n",
        "if s==v:\n",
        "    print('anagram')\n",
        "else:\n",
        "    print('not anagram')"
      ],
      "metadata": {
        "colab": {
          "base_uri": "https://localhost:8080/"
        },
        "id": "YJ0_eroMuUc6",
        "outputId": "705bdcfc-6f84-44f2-e8d4-8efa1e971cfc"
      },
      "execution_count": null,
      "outputs": [
        {
          "output_type": "stream",
          "name": "stdout",
          "text": [
            "not anagram\n"
          ]
        }
      ]
    },
    {
      "cell_type": "code",
      "source": [
        "x=lambda n:2*n\n",
        "print(x(7))"
      ],
      "metadata": {
        "id": "w1Y0-UOIyM5l",
        "colab": {
          "base_uri": "https://localhost:8080/"
        },
        "outputId": "1ddeee7b-66fe-4a37-f1b2-8845f1ba542f"
      },
      "execution_count": null,
      "outputs": [
        {
          "output_type": "stream",
          "name": "stdout",
          "text": [
            "14\n"
          ]
        }
      ]
    },
    {
      "cell_type": "code",
      "source": [
        "a = 2\n",
        "print(lambda x: a + 1)"
      ],
      "metadata": {
        "colab": {
          "base_uri": "https://localhost:8080/"
        },
        "id": "k18NnyWopWVs",
        "outputId": "bf9a0a4f-39ea-44f1-e247-ed4168a935f5"
      },
      "execution_count": null,
      "outputs": [
        {
          "output_type": "stream",
          "name": "stdout",
          "text": [
            "<function <lambda> at 0x78e022a1b9a0>\n"
          ]
        }
      ]
    },
    {
      "cell_type": "code",
      "source": [
        "(lambda x, y, z: x + y + z)(3, 8, 1)"
      ],
      "metadata": {
        "colab": {
          "base_uri": "https://localhost:8080/"
        },
        "id": "txyWnb6ipe4d",
        "outputId": "d68079e9-73e6-4154-c2d5-642a5aa91c0c"
      },
      "execution_count": null,
      "outputs": [
        {
          "output_type": "execute_result",
          "data": {
            "text/plain": [
              "12"
            ]
          },
          "metadata": {},
          "execution_count": 3
        }
      ]
    },
    {
      "cell_type": "code",
      "source": [
        "print((lambda x: x if(x > 10) else 10)(5))"
      ],
      "metadata": {
        "colab": {
          "base_uri": "https://localhost:8080/"
        },
        "id": "YM2r-1xfpkmJ",
        "outputId": "629fa71a-1478-4ba4-d0ca-f3275299e4db"
      },
      "execution_count": null,
      "outputs": [
        {
          "output_type": "stream",
          "name": "stdout",
          "text": [
            "10\n"
          ]
        }
      ]
    },
    {
      "cell_type": "code",
      "source": [
        "(lambda x: x * 10 if x > 10 else (x * 5 if x < 5 else x))(10)"
      ],
      "metadata": {
        "colab": {
          "base_uri": "https://localhost:8080/"
        },
        "id": "MVLe9Qn1qxm0",
        "outputId": "e6dd4881-613b-4ecb-b297-cb440aff3950"
      },
      "execution_count": null,
      "outputs": [
        {
          "output_type": "execute_result",
          "data": {
            "text/plain": [
              "10"
            ]
          },
          "metadata": {},
          "execution_count": 7
        }
      ]
    },
    {
      "cell_type": "code",
      "source": [
        "import re\n",
        "re.search('ba[artz]', 'foobarqux')\n",
        "\n",
        "re.search('ba[artz]', 'foobazqux')"
      ],
      "metadata": {
        "colab": {
          "base_uri": "https://localhost:8080/"
        },
        "id": "nHr2MB2arNs2",
        "outputId": "c1135cfe-167c-4f2c-a367-6b8b3d35e976"
      },
      "execution_count": null,
      "outputs": [
        {
          "output_type": "execute_result",
          "data": {
            "text/plain": [
              "<re.Match object; span=(3, 6), match='baz'>"
            ]
          },
          "metadata": {},
          "execution_count": 1
        }
      ]
    },
    {
      "cell_type": "code",
      "source": [
        "re.search('foo.bar', 'fooxbar')\n",
        "\n",
        "\n",
        "print(re.search('foo.bar', 'foobar'))\n",
        "\n",
        "print(re.search('foo.bar', 'foo\\nbar'))"
      ],
      "metadata": {
        "colab": {
          "base_uri": "https://localhost:8080/"
        },
        "id": "9my_PRrNrZ9H",
        "outputId": "55635d39-dc90-49ce-91d1-b616f720d37d"
      },
      "execution_count": null,
      "outputs": [
        {
          "output_type": "stream",
          "name": "stdout",
          "text": [
            "None\n",
            "None\n"
          ]
        }
      ]
    },
    {
      "cell_type": "code",
      "source": [
        "\n",
        "my_list = [12, 65, 54, 39, 102, 339, 221, 50, 70 ]\n",
        "\n",
        "\n",
        "\n",
        "r = list(filter(lambda x: (x % 7 == 0), my_list))\n",
        "\n",
        "\n",
        "print(r)"
      ],
      "metadata": {
        "colab": {
          "base_uri": "https://localhost:8080/"
        },
        "id": "zuqzb8Y-Jwqr",
        "outputId": "4c8d519c-6a85-47a8-96ed-c8563f142ae6"
      },
      "execution_count": null,
      "outputs": [
        {
          "output_type": "stream",
          "name": "stdout",
          "text": [
            "[70]\n"
          ]
        }
      ]
    },
    {
      "cell_type": "code",
      "source": [
        "nums = [1, 34, 23, 56, 89, 44, 92]\n",
        "even = list(filter(lambda x: x % 2 == 0, nums))\n",
        "print(even)"
      ],
      "metadata": {
        "colab": {
          "base_uri": "https://localhost:8080/"
        },
        "id": "-GDohVB_KLr6",
        "outputId": "107d07df-d280-4c6c-b1df-17aba41503e7"
      },
      "execution_count": null,
      "outputs": [
        {
          "output_type": "stream",
          "name": "stdout",
          "text": [
            "[34, 56, 44, 92]\n"
          ]
        }
      ]
    },
    {
      "cell_type": "code",
      "source": [
        "squares = list(map(lambda n: n ** 2, range(1, 11)))\n",
        "print(squares)"
      ],
      "metadata": {
        "colab": {
          "base_uri": "https://localhost:8080/"
        },
        "id": "s2IB0TVKKUkj",
        "outputId": "e6101ce0-a20a-441b-b7de-f3a6671175f9"
      },
      "execution_count": null,
      "outputs": [
        {
          "output_type": "stream",
          "name": "stdout",
          "text": [
            "[1, 4, 9, 16, 25, 36, 49, 64, 81, 100]\n"
          ]
        }
      ]
    },
    {
      "cell_type": "code",
      "source": [
        "num1 = [2, 4, 9]\n",
        "num2 = [3, 8, 5]\n",
        "result = list(map(lambda x, y: x + y, num1, num2))\n",
        "print(result)"
      ],
      "metadata": {
        "colab": {
          "base_uri": "https://localhost:8080/"
        },
        "id": "T5Us0KfNKap1",
        "outputId": "5c60cf84-6e38-4c8b-ea6f-2de6d5a267f3"
      },
      "execution_count": null,
      "outputs": [
        {
          "output_type": "stream",
          "name": "stdout",
          "text": [
            "[5, 12, 14]\n"
          ]
        }
      ]
    }
  ]
}